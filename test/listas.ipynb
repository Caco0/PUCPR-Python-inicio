{
 "cells": [
  {
   "cell_type": "code",
   "execution_count": 27,
   "metadata": {},
   "outputs": [
    {
     "name": "stdout",
     "output_type": "stream",
     "text": [
      "indice: 0, frutalaranja\n",
      "indice: 1, frutabanana\n",
      "indice: 2, frutamaçã\n",
      "indice: 3, frutapera\n",
      "indice: 4, frutaabacaxi\n",
      "indice: 5, frutamanga\n",
      "\n",
      "\n",
      "Ordem alfabética:  ['abacaxi', 'banana', 'laranja', 'manga', 'maçã', 'pera'] \n",
      "\n",
      "Ordem inversa:  ['pera', 'maçã', 'manga', 'laranja', 'banana', 'abacaxi'] \n",
      "\n",
      "Adicionando mexerica:  ['pera', 'maçã', 'manga', 'laranja', 'banana', 'abacaxi', 'mexerica'] \n",
      "\n",
      "Adicionando abacate e limão:  ['pera', 'maçã', 'manga', 'laranja', 'banana', 'abacaxi', 'mexerica', 'abacate', 'limão'] \n",
      "\n",
      "Removendo abacate:  ['maçã', 'manga', 'laranja', 'banana', 'abacaxi', 'mexerica', 'limão'] \n",
      "\n",
      "None\n",
      "pera\n",
      "Limpa lista de frutas:  []\n",
      "['maçã', 'manga', 'laranja', 'banana', 'abacaxi', 'mexerica', 'limão']\n"
     ]
    }
   ],
   "source": [
    "frutas = [\"laranja\", \"banana\", \"maçã\", \"pera\", \"abacaxi\", \"manga\"]\n",
    "# for i in range(5):\n",
    "#     frutas.append(input('Nome da fruta: '))\n",
    "\n",
    "for (i), item in enumerate(frutas):\n",
    "    print(f'indice: {i}, fruta{item}')\n",
    "\n",
    "print('\\n')\n",
    "\n",
    "frutas.sort()\n",
    "print('Ordem alfabética: ', frutas,'\\n')\n",
    "\n",
    "frutas.reverse()\n",
    "print('Ordem inversa: ', frutas,'\\n')\n",
    "\n",
    "frutas.append(\"mexerica\")\n",
    "print('Adicionando mexerica: ', frutas,'\\n')\n",
    "\n",
    "frutas.extend(['abacate', 'limão'])\n",
    "print('Adicionando abacate e limão: ', frutas,'\\n')\n",
    "\n",
    "elemento = \"abacate\"\n",
    "if elemento in frutas:\n",
    "    resultado = frutas.remove(elemento) # desta forma não retorna nada\n",
    "    resultado2 = frutas.pop(0) # retorna o elemento apagado da lista\n",
    "    print(f'Removendo {elemento}: ', frutas,'\\n')\n",
    "    print(resultado)\n",
    "    print (resultado2)\n",
    "\n",
    "frutas_novas = frutas.copy()\n",
    "frutas.clear()\n",
    "\n",
    "print('Limpa lista de frutas: ', frutas,)\n",
    "print(frutas_novas)"
   ]
  },
  {
   "cell_type": "code",
   "execution_count": 17,
   "metadata": {},
   "outputs": [
    {
     "name": "stdout",
     "output_type": "stream",
     "text": [
      "é zero\n"
     ]
    }
   ],
   "source": []
  }
 ],
 "metadata": {
  "kernelspec": {
   "display_name": "Python 3",
   "language": "python",
   "name": "python3"
  },
  "language_info": {
   "codemirror_mode": {
    "name": "ipython",
    "version": 3
   },
   "file_extension": ".py",
   "mimetype": "text/x-python",
   "name": "python",
   "nbconvert_exporter": "python",
   "pygments_lexer": "ipython3",
   "version": "3.11.9"
  }
 },
 "nbformat": 4,
 "nbformat_minor": 2
}
