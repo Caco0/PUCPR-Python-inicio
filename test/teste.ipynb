{
 "cells": [
  {
   "cell_type": "markdown",
   "metadata": {},
   "source": [
    "<p>Para que não de erro de entrada pois o \"input\" transforma todos os valores em string coloca-se int e/ou float (no caso de numeros quebrados)</p> \n",
    "<p>Assim a linha de comando converte o valor obtido para uma variável numérica antes da próxima linha de código.</p>\n"
   ]
  },
  {
   "cell_type": "code",
   "execution_count": 8,
   "metadata": {},
   "outputs": [
    {
     "name": "stdout",
     "output_type": "stream",
     "text": [
      "15.5\n"
     ]
    }
   ],
   "source": [
    "primeiro_valor = 3\n",
    "segundo_valor = float(input('Digite o segundo valor: '))\n",
    "soma = primeiro_valor + segundo_valor\n",
    "\n",
    "print(soma)"
   ]
  },
  {
   "cell_type": "code",
   "execution_count": null,
   "metadata": {},
   "outputs": [],
   "source": [
    "primeiro_valor = float(input('Digite o primeiro valor: '))\n",
    "segundo_valor = float(input('Digite o segundo valor: '))\n",
    "\n",
    "soma = primeiro_valor + segundo_valor\n",
    "subtracao = primeiro_valor - segundo_valor\n",
    "multiplicacao = primeiro_valor * segundo_valor\n",
    "divisao = primeiro_valor / segundo_valor\n",
    "resto = primeiro_valor % segundo_valor\n",
    "\n",
    "print(soma)\n",
    "print(subtracao)\n",
    "print(multiplicacao)\n",
    "print(divisao)\n",
    "print(resto)\n",
    "\n",
    "print('Olá! Seja bem vindo.')\n",
    "print('O primeiro valor digitado é:', primeiro_valor)\n",
    "print(primeiro_valor, 'foi o primeiro valor digitado')\n",
    "print(f'O resultado da soma é {soma}, e da sbtração é {subtracao}.')\n",
    "print('O resultado da multiplicação é' + str(multiplicacao) + '.')\n",
    "print(divisao)\n",
    "print('Resto: ' + str(resto))\n"
   ]
  },
  {
   "cell_type": "code",
   "execution_count": 14,
   "metadata": {},
   "outputs": [
    {
     "name": "stdout",
     "output_type": "stream",
     "text": [
      "0.8571428571428571\n"
     ]
    }
   ],
   "source": [
    "num = 6/7\n",
    "\n",
    "print(num)"
   ]
  },
  {
   "cell_type": "code",
   "execution_count": null,
   "metadata": {},
   "outputs": [],
   "source": [
    "num = 6/7\n",
    "\n",
    "print('Resultado: %f' % num)\n",
    "\n",
    "print('Resultado: %.2f' % num)\n",
    "\n",
    "print('Resultado: %8.2f' % num)\n",
    "\n",
    "print('Resultado: %d' % num)\n",
    "\n",
    "print('Resultado: %s' % num)"
   ]
  },
  {
   "cell_type": "markdown",
   "metadata": {},
   "source": [
    "<h1>Formatação de saída de dados com o operador de modulação</h1><br>\n",
    "<p>'Resultado: %f' % num Padrão de exibição de ponto flutuante com seis casas decimais</p><br>\n",
    "<p>'Resultado: %.2f' % num Formatado com duas casas decimais</p><br>\n",
    "<p>'Resultado: %8.2f' % num Formatado com duas casas decimais e usando um limite de oito caracteres. O que sobrar é preenchido com espaços em</p><br>\n",
    "<p>'Resultado: %d' % num Formatado como um valor inteiro.</p><br>\n",
    "<p>'Resultado: %s' % num Formatado como string</p><br>"
   ]
  },
  {
   "cell_type": "code",
   "execution_count": 15,
   "metadata": {},
   "outputs": [
    {
     "name": "stdout",
     "output_type": "stream",
     "text": [
      "Resultado: 0.857143\n",
      "Resultado: 0.86\n",
      "Resultado:     0.86\n",
      "Resultado:       10\n",
      "Hello     World     \n",
      "  Hello     World   \n",
      "     Hello     World\n"
     ]
    }
   ],
   "source": [
    "num = 6/7\n",
    "\n",
    "outro_num = 10\n",
    "\n",
    "t1 = \"Hello\"\n",
    "\n",
    "t2 = \"World\"\n",
    "\n",
    " \n",
    "\n",
    "print(f'Resultado: {num:f}')\n",
    "\n",
    "print(f'Resultado: {num:.2f}')\n",
    "\n",
    "print(f'Resultado: {num:8.2f}')\n",
    "\n",
    "print(f'Resultado: {outro_num:8d}')\n",
    "\n",
    "print(f'{t1:10}{t2:10}')\n",
    "\n",
    "print(f'{t1:^10}{t2:^10}')\n",
    "\n",
    "print(f'{t1:>10}{t2:>10}')"
   ]
  },
  {
   "cell_type": "markdown",
   "metadata": {},
   "source": [
    "<h1>Formatação de saída de dados com f-strings – floats – num = 6/7</h1>\n",
    "\n",
    "<p>f'Resultado: {num:f}' Padrão de exibição de ponto flutuante com seis casas decimais\n",
    "\n",
    "f'Resultado: {num:.2f}' Formatado com duas casas decimais\n",
    "\n",
    "f'Resultado: {num:8.2f}' Formatado com duas casas decimais, representado com oito caracteres. Preenche com espaços em branco à esquerda se necessário.</p>\n",
    "\n",
    "<h3>Formatação de saída de dados com f-strings – inteiros – num = 10</h3>\n",
    "\n",
    "<p>f'Resultado: {outro_num:8d}'Formatado com, no mínimo, oito caracteres (à esquerda). Preenche de espaços em branco à esquerda se necessário.</p>\n",
    "\n",
    "<h3>Formatação de saída de dados com f-strings – strings – t1 = “Hello”, t2 = “World”</h3>\n",
    "\n",
    "<p>f’{t1:10}{t2:10}’ Formatado com, no mínimo, dez caracteres, sem alinhamento\n",
    "\n",
    "f’{t1:^10}{t2:^10}’ Formatado com, no mínimo, dez caracteres, centralizado\n",
    "\n",
    "f’{t1:>10}{t2:>10}’ Formatado com, no mínimo, dez caracteres, à direita</p>"
   ]
  },
  {
   "cell_type": "markdown",
   "metadata": {},
   "source": []
  },
  {
   "cell_type": "code",
   "execution_count": 1,
   "metadata": {},
   "outputs": [
    {
     "name": "stdout",
     "output_type": "stream",
     "text": [
      "Olá Rafael tudo bém?\n"
     ]
    }
   ],
   "source": [
    "nome = \"Rafael\"\n",
    "mensagem = 'Olá %s tudo bém?' %nome\n",
    "\n",
    "print(mensagem)"
   ]
  },
  {
   "cell_type": "markdown",
   "metadata": {},
   "source": [
    "A variável nome é inserita no placeholder \"%s\", 's' de string"
   ]
  },
  {
   "cell_type": "markdown",
   "metadata": {},
   "source": [
    "<h1> Função Placeholder"
   ]
  },
  {
   "cell_type": "code",
   "execution_count": null,
   "metadata": {},
   "outputs": [],
   "source": [
    "idade = 'Meu avô faz %d anos hoje, paraéns vovô!!!' %95\n",
    "print(idade)\n",
    "\n",
    "presente = 'Eu estou sem um R$ %.2f para comprar um presente!!!' %1.00\n",
    "print(presente)"
   ]
  },
  {
   "cell_type": "markdown",
   "metadata": {},
   "source": [
    "%d será inserida uma variável do tipo inteira<br>\n",
    "%.2f será inserida uma variável do tipo float com duas casas decimais, se fosse %.3f seriam três casas decimais \n"
   ]
  },
  {
   "cell_type": "code",
   "execution_count": 5,
   "metadata": {},
   "outputs": [
    {
     "name": "stdout",
     "output_type": "stream",
     "text": [
      "Hoje é dia 26/10/1982 às 11:40 puxa viajei no tempo!!\n"
     ]
    }
   ],
   "source": [
    "data = 'Hoje é dia %d/%d/%d às %d:%d puxa viajei no tempo!!' %(26,10,1982,11,40)\n",
    "print(data)"
   ]
  },
  {
   "cell_type": "markdown",
   "metadata": {},
   "source": [
    "como a entrada de dados é maior então os dados são alocados dentro dos parenteses em ordem de insersão,<br>\n",
    "também respeitando-se o tipo de dado que nesse caso é int"
   ]
  },
  {
   "cell_type": "markdown",
   "metadata": {},
   "source": [
    "<h1>Função format"
   ]
  },
  {
   "cell_type": "code",
   "execution_count": 6,
   "metadata": {},
   "outputs": [
    {
     "name": "stdout",
     "output_type": "stream",
     "text": [
      "Formatos diferentes: int1, float1.5, stringdois\n"
     ]
    }
   ],
   "source": [
    "dados = 'Formatos diferentes: int{}, float{}, string{}' .format(1,1.5,'dois')\n",
    "print(dados)"
   ]
  },
  {
   "cell_type": "code",
   "execution_count": 7,
   "metadata": {},
   "outputs": [
    {
     "name": "stdout",
     "output_type": "stream",
     "text": [
      "Invertendo posições: 1=segundo, 2=primeiro\n"
     ]
    }
   ],
   "source": [
    "posicao = 'Invertendo posições: 1={1}, 2={0}' .format('primeiro', 'segundo')\n",
    "print(posicao)"
   ]
  },
  {
   "cell_type": "code",
   "execution_count": 2,
   "metadata": {},
   "outputs": [
    {
     "name": "stdout",
     "output_type": "stream",
     "text": [
      "o valor 2 é par.\n"
     ]
    }
   ],
   "source": [
    "numero = int(input('Digite um numero inteiro: '))\n",
    "if numero % 2 == 0: print(f'o valor {numero} é par.')"
   ]
  },
  {
   "cell_type": "code",
   "execution_count": null,
   "metadata": {},
   "outputs": [],
   "source": [
    "#solicita as notas do usuário\n",
    "nota1 = float(input('DIgite a primeira nota: '))\n",
    "nota2 = float(input('DIgite a segunda nota: '))\n",
    "nota3 = float(input('DIgite a terceira nota: '))\n",
    "nota4 = float(input('DIgite a quarta nota: '))\n",
    "\n",
    "#calcula a média\n",
    "media = (nota1+nota2+nota3+nota4)/4\n",
    "\n",
    "#verifica se o aluno foi aprovado\n",
    "if media >= 7:\n",
    "    print('Aluno aprovado')\n",
    "    print('Ainda estamos dentro do if')\n",
    "\n",
    "#Exibe a média \n",
    "print(f'A média do aluno é:  {media:.2f}')\n",
    "\n"
   ]
  },
  {
   "cell_type": "code",
   "execution_count": null,
   "metadata": {},
   "outputs": [],
   "source": [
    "anoAtual = 2024\n",
    "nascimento = int(input('Qual o ano do seu nascimento? '))\n",
    "idade = anoAtual - nascimento\n",
    "resp = input('Já fez aniversário esse ano? ')\n",
    "if resp == 'não': \n",
    "    idade -= 1\n",
    "    print('sua idade é ', idade)"
   ]
  },
  {
   "cell_type": "code",
   "execution_count": null,
   "metadata": {},
   "outputs": [],
   "source": [
    "# Solicita as notas do usuário\n",
    "\n",
    "nota1 = float(input(\"Digite a primeira nota: \"))\n",
    "nota2 = float(input(\"Digite a segunda nota: \"))\n",
    "nota3 = float(input(\"Digite a terceira nota: \"))\n",
    "nota4 = float(input(\"Digite a quarta nota: \"))\n",
    "\n",
    "# Calcula a média das notas\n",
    "\n",
    "media = (nota1 + nota2 + nota3 + nota4) / 4\n",
    "\n",
    "# Verifica se o estudante foi aprovado\n",
    "\n",
    "if media >= 7:\n",
    "    print(\"O estudante foi aprovado.\")\n",
    "    print(\"Ainda estamos dentro do if.\")\n",
    "\n",
    "else:\n",
    "    print(\"O estudante foi reprovado.\")\n",
    "\n",
    "# Exibe a média\n",
    "print(f\"A média do estudante é: {media:.2f}\")"
   ]
  },
  {
   "cell_type": "code",
   "execution_count": 4,
   "metadata": {},
   "outputs": [
    {
     "name": "stdout",
     "output_type": "stream",
     "text": [
      "Por favor insira três números diferentes: \n",
      "O menor número é: 2.0\n"
     ]
    }
   ],
   "source": [
    "print('Por favor insira três números diferentes: ')\n",
    "num1 = float(input('Digite o primeiro número: '))\n",
    "num2 = float(input('Digite o segundo número: '))\n",
    "num3 = float(input('Digite o terceiro número: '))\n",
    "\n",
    "#verificando se os números são diferentes \n",
    "if num1 == num2:\n",
    "    print('Os números inseridos não são diferentes.')\n",
    "else: \n",
    "    if num1 == num3:\n",
    "            print('Os números inseridos não são diferentes.')\n",
    "    else: \n",
    "        if num2 == num3:\n",
    "                print('Os números inseridos não são diferentes.')\n",
    "        else: \n",
    "            menor = num1\n",
    "        \n",
    "            if num2 < menor:\n",
    "                menor = num2\n",
    "            if num3 < menor:\n",
    "                menor = num3\n",
    "\n",
    "print(f'O menor número é: {menor}')\n"
   ]
  },
  {
   "cell_type": "code",
   "execution_count": 5,
   "metadata": {},
   "outputs": [
    {
     "name": "stdout",
     "output_type": "stream",
     "text": [
      "Por favor insira três números diferentes: \n",
      "O menor número é o 11.0\n"
     ]
    }
   ],
   "source": [
    "print('Por favor insira três números diferentes: ')\n",
    "num1 = float(input('Digite o primeiro número: '))\n",
    "num2 = float(input('Digite o segundo número: '))\n",
    "num3 = float(input('Digite o terceiro número: '))\n",
    "\n",
    "if num1 == num2:\n",
    "    print('O primeiro e o segundo número são iguais')\n",
    "elif num1 == num3: \n",
    "    print('O primeiro e o terceiro número são iguais')\n",
    "elif num2 == num3: \n",
    "    print('O segundo e o terceiro número são iguais')\n",
    "else:\n",
    "    if num1 < num2:\n",
    "        if num1 < num3:\n",
    "            print(f'O menor número é o {num1}')\n",
    "        else:\n",
    "            print(f'O menor número é o {num3}')\n",
    "    elif num2 < num3:\n",
    "        print(f'O menor número é o {num2}')\n",
    "    else:\n",
    "        print(f'O menor número é o {num3}')"
   ]
  },
  {
   "cell_type": "code",
   "execution_count": 6,
   "metadata": {},
   "outputs": [
    {
     "name": "stdout",
     "output_type": "stream",
     "text": [
      "Por favor insira três números diferentes: \n",
      "O menor valor é o 1.0\n"
     ]
    }
   ],
   "source": [
    "print('Por favor insira três números diferentes: ')\n",
    "num1 = float(input('Digite o primeiro número: '))\n",
    "num2 = float(input('Digite o segundo número: '))\n",
    "num3 = float(input('Digite o terceiro número: '))\n",
    "\n",
    "if num1 == num2 or num1 == num3 or num2 == num3:\n",
    "    print('Os numeros inseridos não são diferentes')\n",
    "else:\n",
    "    if num1 < num2 and num1 < num3:\n",
    "        print(f'O menor valor e {num1}')\n",
    "    elif num2 < num3:\n",
    "        print(f'O menor valor e {num2}')\n",
    "    else: \n",
    "        print(f'O menor valor é o {num3}')"
   ]
  },
  {
   "cell_type": "markdown",
   "metadata": {},
   "source": [
    "<h1>Exercícios</h1>\n",
    "<p>Segunda semana</p>"
   ]
  },
  {
   "cell_type": "code",
   "execution_count": 9,
   "metadata": {},
   "outputs": [
    {
     "name": "stdout",
     "output_type": "stream",
     "text": [
      "Você pode tirar carteira de motorista\n"
     ]
    }
   ],
   "source": [
    "#Exercício 1\n",
    "idade = int(input('Digite sua idade'))\n",
    "\n",
    "if idade >= 18:\n",
    "    print('Parabéns! Você pode tirar carteira de motorista')\n",
    "else:\n",
    "    print('Você não pode tirar carteira de motorista')"
   ]
  },
  {
   "cell_type": "code",
   "execution_count": 11,
   "metadata": {},
   "outputs": [
    {
     "name": "stdout",
     "output_type": "stream",
     "text": [
      "Nome aceito! parabéns Senhor(a) Rafael F Dametto\n"
     ]
    }
   ],
   "source": [
    "#Exercício 2\n",
    "nomeCliente = input('Digite se nome com menos de 20 caracteres')\n",
    "\n",
    "if len(nomeCliente) < 20:\n",
    "    print(f'Nome aceito! Parabéns Senhor(a) {nomeCliente}')\n",
    "else:\n",
    "    print('Nome muito extenso')"
   ]
  },
  {
   "cell_type": "code",
   "execution_count": 15,
   "metadata": {},
   "outputs": [
    {
     "name": "stdout",
     "output_type": "stream",
     "text": [
      "O numero é impar\n"
     ]
    }
   ],
   "source": [
    "#Exercício 3\n",
    "numero = float(input('Digite um numero'))\n",
    "\n",
    "if numero % 2 == 0:\n",
    "    print('O numero é par')\n",
    "else:\n",
    "    print('O numero é impar')"
   ]
  },
  {
   "cell_type": "code",
   "execution_count": 19,
   "metadata": {},
   "outputs": [
    {
     "name": "stdout",
     "output_type": "stream",
     "text": [
      "O valor do seu abono é de 15% e o valor final será: 3795.00\n"
     ]
    }
   ],
   "source": [
    "#Exercício 4\n",
    "salario = float(input('Digite o valor do seu salário para calcular o abono: '))\n",
    "\n",
    "if salario < 5000:\n",
    "    print(f'O valor do seu abono é de 15% e o valor final será: {((salario*0.15)+salario):.2f}')\n",
    "else:\n",
    "    print(f'O valor do seu abono é de 10% e o valor final será: {((salario*0.10)+salario):.2f}')"
   ]
  },
  {
   "cell_type": "code",
   "execution_count": 24,
   "metadata": {},
   "outputs": [
    {
     "name": "stdout",
     "output_type": "stream",
     "text": [
      "Valor inválido!\n"
     ]
    }
   ],
   "source": [
    "#Exercício 5\n",
    "\n",
    "bomDia = input('Digite o turno em que você trabalha: M-Manhã, T-tarde, N-noite')\n",
    "\n",
    "if bomDia == \"M\":\n",
    "    print('Bom dia!')\n",
    "elif bomDia == \"T\":\n",
    "    print('Boa tarde!')\n",
    "elif bomDia == \"N\":\n",
    "    print('Boa noite!')\n",
    "else:\n",
    "    print('Valor inválido!')\n"
   ]
  },
  {
   "cell_type": "code",
   "execution_count": 25,
   "metadata": {},
   "outputs": [
    {
     "name": "stdout",
     "output_type": "stream",
     "text": [
      "Multiplicação:  50\n"
     ]
    }
   ],
   "source": [
    "#Exercício 6\n",
    "\n",
    "num1 = int(input('Digite o primeiro valor: '))\n",
    "op = int(input('Qual operação deseja fazer? 1-soma, 2-subtração, 3-divisão, 4 multiplicação, 5-resto'))\n",
    "num2 = int(input('Digite o segundo valor: '))\n",
    "\n",
    "if op == 1:\n",
    "    print('Soma: ', num1 + num2)\n",
    "elif op == 2:\n",
    "    print('Subtração: ', num1 - num2)\n",
    "elif op == 3:\n",
    "    print('Divisão: ', num1 / num2)\n",
    "elif op == 4:\n",
    "    print('Multiplicação: ', num1 * num2)\n",
    "elif op == 5:\n",
    "    print('Resto: ', num1 % num2)\n",
    "else:\n",
    "    print('Opção inválida!')\n",
    "\n"
   ]
  },
  {
   "cell_type": "code",
   "execution_count": 31,
   "metadata": {},
   "outputs": [
    {
     "name": "stdout",
     "output_type": "stream",
     "text": [
      "É um triângulo\n",
      "É um triângulo equilátero\n"
     ]
    }
   ],
   "source": [
    "#Exercício 7\n",
    "\n",
    "ladoA = int(input('Digite o tamanho do lado A: '))\n",
    "ladoB = int(input('Digite o tamanho do lado B: '))\n",
    "ladoC = int(input('Digite o tamanho do lado C: '))\n",
    "\n",
    "if ladoA+ladoB > ladoC or ladoA+ladoC > ladoB or ladoC+ladoB > ladoA:\n",
    "    print('É um triângulo')\n",
    "    if ladoA == ladoB == ladoC:\n",
    "        print('É um triângulo equilátero')\n",
    "    elif ladoA == ladoB or ladoA == ladoC or ladoC == ladoB:\n",
    "        print('É um triângulo isósceles')\n",
    "    elif ladoA != ladoB != ladoC:\n",
    "        print('É um triângulo escaleno')\n",
    "else:\n",
    "    print('Não é um triângulo')"
   ]
  },
  {
   "cell_type": "code",
   "execution_count": 33,
   "metadata": {},
   "outputs": [
    {
     "name": "stdout",
     "output_type": "stream",
     "text": [
      "Notas de 100:  5\n",
      "Notas de 50:  1\n",
      "Notas de 10:  4\n",
      "Notas de 5:  1\n",
      "Notas de 1:  2\n"
     ]
    }
   ],
   "source": [
    "#Exercício 8\n",
    "\n",
    "valor = int(input('Qual o valor deseja sacar?  R$ '))\n",
    "\n",
    "resto = valor\n",
    "\n",
    "n1 = n5 = n10 = n50 = n100 = 0\n",
    "\n",
    "if valor < 10 or valor > 600 :\n",
    "    print('Valor inválido')\n",
    "else:\n",
    "    if resto >=100:\n",
    "        sobra = resto % 100\n",
    "        n100 = int((resto - sobra)/100)\n",
    "        resto = sobra\n",
    "    if resto >= 50:\n",
    "        sobra = resto % 50\n",
    "        n50 = int((resto - sobra)/50)\n",
    "        resto = sobra\n",
    "    if resto >=10:\n",
    "        sobra = resto % 10\n",
    "        n10 = int((resto - sobra)/10)\n",
    "        resto = sobra\n",
    "    if resto >= 5:\n",
    "        sobra = resto % 5\n",
    "        n5 = int((resto - sobra)/5)\n",
    "        resto = sobra\n",
    "    n1 = resto\n",
    "    print('Notas de 100: ', n100)\n",
    "    print('Notas de 50: ', n50)\n",
    "    print('Notas de 10: ', n10)\n",
    "    print('Notas de 5: ', n5)\n",
    "    print('Notas de 1: ', n1)\n"
   ]
  }
 ],
 "metadata": {
  "kernelspec": {
   "display_name": "Python 3",
   "language": "python",
   "name": "python3"
  },
  "language_info": {
   "codemirror_mode": {
    "name": "ipython",
    "version": 3
   },
   "file_extension": ".py",
   "mimetype": "text/x-python",
   "name": "python",
   "nbconvert_exporter": "python",
   "pygments_lexer": "ipython3",
   "version": "3.11.9"
  }
 },
 "nbformat": 4,
 "nbformat_minor": 2
}
