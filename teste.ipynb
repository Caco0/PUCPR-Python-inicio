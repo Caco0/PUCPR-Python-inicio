{
 "cells": [
  {
   "cell_type": "markdown",
   "metadata": {},
   "source": [
    "<p>Para que não de erro de entrada pois o \"input\" transforma todos os valores em string coloca-se int e/ou float (no caso de numeros quebrados)</p> \n",
    "<p>Assim a linha de comando converte o valor obtido para uma variável numérica antes da próxima linha de código.</p>\n"
   ]
  },
  {
   "cell_type": "code",
   "execution_count": 8,
   "metadata": {},
   "outputs": [
    {
     "name": "stdout",
     "output_type": "stream",
     "text": [
      "15.5\n"
     ]
    }
   ],
   "source": [
    "primeiro_valor = 3\n",
    "segundo_valor = float(input('Digite o segundo valor: '))\n",
    "soma = primeiro_valor + segundo_valor\n",
    "\n",
    "print(soma)"
   ]
  },
  {
   "cell_type": "code",
   "execution_count": null,
   "metadata": {},
   "outputs": [],
   "source": [
    "primeiro_valor = float(input('Digite o primeiro valor: '))\n",
    "segundo_valor = float(input('Digite o segundo valor: '))\n",
    "\n",
    "soma = primeiro_valor + segundo_valor\n",
    "subtracao = primeiro_valor - segundo_valor\n",
    "multiplicacao = primeiro_valor * segundo_valor\n",
    "divisao = primeiro_valor / segundo_valor\n",
    "resto = primeiro_valor % segundo_valor\n",
    "\n",
    "print(soma)\n",
    "print(subtracao)\n",
    "print(multiplicacao)\n",
    "print(divisao)\n",
    "print(resto)\n",
    "\n",
    "print('Olá! Seja bem vindo.')\n",
    "print('O primeiro valor digitado é:', primeiro_valor)\n",
    "print(primeiro_valor, 'foi o primeiro valor digitado')\n",
    "print(f'O resultado da soma é {soma}, e da sbtração é {subtracao}.')\n",
    "print('O resultado da multiplicação é' + str(multiplicacao) + '.')\n",
    "print(divisao)\n",
    "print('Resto: ' + str(resto))\n"
   ]
  },
  {
   "cell_type": "code",
   "execution_count": 14,
   "metadata": {},
   "outputs": [
    {
     "name": "stdout",
     "output_type": "stream",
     "text": [
      "0.8571428571428571\n"
     ]
    }
   ],
   "source": [
    "num = 6/7\n",
    "\n",
    "print(num)"
   ]
  },
  {
   "cell_type": "code",
   "execution_count": null,
   "metadata": {},
   "outputs": [],
   "source": [
    "num = 6/7\n",
    "\n",
    "print('Resultado: %f' % num)\n",
    "\n",
    "print('Resultado: %.2f' % num)\n",
    "\n",
    "print('Resultado: %8.2f' % num)\n",
    "\n",
    "print('Resultado: %d' % num)\n",
    "\n",
    "print('Resultado: %s' % num)"
   ]
  },
  {
   "cell_type": "markdown",
   "metadata": {},
   "source": [
    "<h1>Formatação de saída de dados com o operador de modulação</h1><br>\n",
    "<p>'Resultado: %f' % num Padrão de exibição de ponto flutuante com seis casas decimais</p><br>\n",
    "<p>'Resultado: %.2f' % num Formatado com duas casas decimais</p><br>\n",
    "<p>'Resultado: %8.2f' % num Formatado com duas casas decimais e usando um limite de oito caracteres. O que sobrar é preenchido com espaços em</p><br>\n",
    "<p>'Resultado: %d' % num Formatado como um valor inteiro.</p><br>\n",
    "<p>'Resultado: %s' % num Formatado como string</p><br>"
   ]
  },
  {
   "cell_type": "code",
   "execution_count": 15,
   "metadata": {},
   "outputs": [
    {
     "name": "stdout",
     "output_type": "stream",
     "text": [
      "Resultado: 0.857143\n",
      "Resultado: 0.86\n",
      "Resultado:     0.86\n",
      "Resultado:       10\n",
      "Hello     World     \n",
      "  Hello     World   \n",
      "     Hello     World\n"
     ]
    }
   ],
   "source": [
    "num = 6/7\n",
    "\n",
    "outro_num = 10\n",
    "\n",
    "t1 = \"Hello\"\n",
    "\n",
    "t2 = \"World\"\n",
    "\n",
    " \n",
    "\n",
    "print(f'Resultado: {num:f}')\n",
    "\n",
    "print(f'Resultado: {num:.2f}')\n",
    "\n",
    "print(f'Resultado: {num:8.2f}')\n",
    "\n",
    "print(f'Resultado: {outro_num:8d}')\n",
    "\n",
    "print(f'{t1:10}{t2:10}')\n",
    "\n",
    "print(f'{t1:^10}{t2:^10}')\n",
    "\n",
    "print(f'{t1:>10}{t2:>10}')"
   ]
  },
  {
   "cell_type": "markdown",
   "metadata": {},
   "source": [
    "<h1>Formatação de saída de dados com f-strings – floats – num = 6/7</h1>\n",
    "\n",
    "<p>f'Resultado: {num:f}' Padrão de exibição de ponto flutuante com seis casas decimais\n",
    "\n",
    "f'Resultado: {num:.2f}' Formatado com duas casas decimais\n",
    "\n",
    "f'Resultado: {num:8.2f}' Formatado com duas casas decimais, representado com oito caracteres. Preenche com espaços em branco à esquerda se necessário.</p>\n",
    "\n",
    "<h3>Formatação de saída de dados com f-strings – inteiros – num = 10</h3>\n",
    "\n",
    "<p>f'Resultado: {outro_num:8d}'Formatado com, no mínimo, oito caracteres (à esquerda). Preenche de espaços em branco à esquerda se necessário.</p>\n",
    "\n",
    "<h3>Formatação de saída de dados com f-strings – strings – t1 = “Hello”, t2 = “World”</h3>\n",
    "\n",
    "<p>f’{t1:10}{t2:10}’ Formatado com, no mínimo, dez caracteres, sem alinhamento\n",
    "\n",
    "f’{t1:^10}{t2:^10}’ Formatado com, no mínimo, dez caracteres, centralizado\n",
    "\n",
    "f’{t1:>10}{t2:>10}’ Formatado com, no mínimo, dez caracteres, à direita</p>"
   ]
  },
  {
   "cell_type": "markdown",
   "metadata": {},
   "source": []
  },
  {
   "cell_type": "code",
   "execution_count": 1,
   "metadata": {},
   "outputs": [
    {
     "name": "stdout",
     "output_type": "stream",
     "text": [
      "Olá Rafael tudo bém?\n"
     ]
    }
   ],
   "source": [
    "nome = \"Rafael\"\n",
    "mensagem = 'Olá %s tudo bém?' %nome\n",
    "\n",
    "print(mensagem)"
   ]
  },
  {
   "cell_type": "markdown",
   "metadata": {},
   "source": [
    "A variável nome é inserita no placeholder \"%s\", 's' de string"
   ]
  },
  {
   "cell_type": "markdown",
   "metadata": {},
   "source": [
    "<h1> Função Placeholder"
   ]
  },
  {
   "cell_type": "code",
   "execution_count": null,
   "metadata": {},
   "outputs": [],
   "source": [
    "idade = 'Meu avô faz %d anos hoje, paraéns vovô!!!' %95\n",
    "print(idade)\n",
    "\n",
    "presente = 'Eu estou sem um R$ %.2f para comprar um presente!!!' %1.00\n",
    "print(presente)"
   ]
  },
  {
   "cell_type": "markdown",
   "metadata": {},
   "source": [
    "%d será inserida uma variável do tipo inteira<br>\n",
    "%.2f será inserida uma variável do tipo float com duas casas decimais, se fosse %.3f seriam três casas decimais \n"
   ]
  },
  {
   "cell_type": "code",
   "execution_count": 5,
   "metadata": {},
   "outputs": [
    {
     "name": "stdout",
     "output_type": "stream",
     "text": [
      "Hoje é dia 26/10/1982 às 11:40 puxa viajei no tempo!!\n"
     ]
    }
   ],
   "source": [
    "data = 'Hoje é dia %d/%d/%d às %d:%d puxa viajei no tempo!!' %(26,10,1982,11,40)\n",
    "print(data)"
   ]
  },
  {
   "cell_type": "markdown",
   "metadata": {},
   "source": [
    "como a entrada de dados é maior então os dados são alocados dentro dos parenteses em ordem de insersão,<br>\n",
    "também respeitando-se o tipo de dado que nesse caso é int"
   ]
  },
  {
   "cell_type": "markdown",
   "metadata": {},
   "source": [
    "<h1>Função format"
   ]
  },
  {
   "cell_type": "code",
   "execution_count": 6,
   "metadata": {},
   "outputs": [
    {
     "name": "stdout",
     "output_type": "stream",
     "text": [
      "Formatos diferentes: int1, float1.5, stringdois\n"
     ]
    }
   ],
   "source": [
    "dados = 'Formatos diferentes: int{}, float{}, string{}' .format(1,1.5,'dois')\n",
    "print(dados)"
   ]
  },
  {
   "cell_type": "code",
   "execution_count": 7,
   "metadata": {},
   "outputs": [
    {
     "name": "stdout",
     "output_type": "stream",
     "text": [
      "Invertendo posições: 1=segundo, 2=primeiro\n"
     ]
    }
   ],
   "source": [
    "posicao = 'Invertendo posições: 1={1}, 2={0}' .format('primeiro', 'segundo')\n",
    "print(posicao)"
   ]
  }
 ],
 "metadata": {
  "kernelspec": {
   "display_name": "Python 3",
   "language": "python",
   "name": "python3"
  },
  "language_info": {
   "codemirror_mode": {
    "name": "ipython",
    "version": 3
   },
   "file_extension": ".py",
   "mimetype": "text/x-python",
   "name": "python",
   "nbconvert_exporter": "python",
   "pygments_lexer": "ipython3",
   "version": "3.11.9"
  }
 },
 "nbformat": 4,
 "nbformat_minor": 2
}
