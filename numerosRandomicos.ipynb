{
 "cells": [
  {
   "cell_type": "code",
   "execution_count": 3,
   "metadata": {},
   "outputs": [
    {
     "name": "stdout",
     "output_type": "stream",
     "text": [
      "8.0\n"
     ]
    }
   ],
   "source": [
    "#importando o modulo\n",
    "import math\n",
    "\n",
    "#imprimindo a raiz quadrada\n",
    "print(math.sqrt(64))"
   ]
  },
  {
   "cell_type": "code",
   "execution_count": 5,
   "metadata": {},
   "outputs": [
    {
     "name": "stdout",
     "output_type": "stream",
     "text": [
      "58\n"
     ]
    }
   ],
   "source": [
    "#import modulo randon\n",
    "import random\n",
    "\n",
    "#modulo randon sendo chamado e setado entre 1 e 100\n",
    "num = random.randint(1,100)\n",
    "print(num)"
   ]
  },
  {
   "cell_type": "code",
   "execution_count": 7,
   "metadata": {},
   "outputs": [
    {
     "name": "stdout",
     "output_type": "stream",
     "text": [
      "-47\n"
     ]
    }
   ],
   "source": [
    "#trabalhando com numeros negativos \n",
    "import random\n",
    "\n",
    "#modulo randon sendo chamado e setado entre -100 e 100\n",
    "num = random.randint(-100,100)\n",
    "print(num)"
   ]
  },
  {
   "cell_type": "code",
   "execution_count": 30,
   "metadata": {},
   "outputs": [
    {
     "name": "stdout",
     "output_type": "stream",
     "text": [
      "8\n",
      "-10\n",
      "6\n",
      "1\n",
      "2\n",
      "5\n"
     ]
    }
   ],
   "source": [
    "import random\n",
    "\n",
    "\n",
    "#A faixa de números sorteados está entre 0 e 9, o 10 não entra no sorteio!\n",
    "num = random.randrange(0,10)\n",
    "print(num)\n",
    "\n",
    "# também trabalha com numeros negativos \n",
    "num1 = random.randrange(-10,10)\n",
    "print(num1)\n",
    "\n",
    "#desta forma setando com um parametro a função será setada entre 0 e o valor único, ou seja como neste caso entre 0 e 9\n",
    "num2 = random.randrange(10)\n",
    "print(num2)\n",
    "\n",
    "#O terceiro valor de set da função é o valor de encremento neste caso de 2 em 2\n",
    "num3 = random.randrange(1,10,2)\n",
    "print(num3)\n",
    "\n",
    "#Neste caso setando o primeiro valor em \"0\" obteremos sempre os numeros pares\n",
    "num4 = random.randrange(0,10,2)\n",
    "print(num4)\n",
    "\n",
    "#setando o primeiro valor em 1 obteremos os valores impares de dois em dois \n",
    "num5 = random.randrange(1,10,2)\n",
    "print(num5)"
   ]
  },
  {
   "cell_type": "code",
   "execution_count": 37,
   "metadata": {},
   "outputs": [
    {
     "name": "stdout",
     "output_type": "stream",
     "text": [
      "0.09484696610561039\n",
      "-1.7847709847781088\n"
     ]
    }
   ],
   "source": [
    "import random\n",
    "\n",
    "#Esta função não recebe valor de set, mas é estabelecido entre 0 e 1\n",
    "num =random.random()\n",
    "print(num)\n",
    "\n",
    "\n",
    "#Neste caso estamos trabalhando com outras faixas de valores que podem ser setadas na função que neste caso ente -5 e 5\n",
    "num1 = random.uniform(-5.0, 5.0)\n",
    "print(num1)"
   ]
  },
  {
   "cell_type": "code",
   "execution_count": 61,
   "metadata": {},
   "outputs": [
    {
     "name": "stdout",
     "output_type": "stream",
     "text": [
      "P\n",
      "B\n"
     ]
    }
   ],
   "source": [
    "import random\n",
    "import string\n",
    "\n",
    "#Escolhe um caractere aleatório dentro da estring \n",
    "letra = random.choice('Paranapiacaba')\n",
    "print(letra)\n",
    "\n",
    "\n",
    "#Escolhe uma letra aleatória do alfabeto\n",
    "alfabeto = random.choice(string.ascii_uppercase)\n",
    "print(alfabeto)"
   ]
  }
 ],
 "metadata": {
  "kernelspec": {
   "display_name": "Python 3",
   "language": "python",
   "name": "python3"
  },
  "language_info": {
   "codemirror_mode": {
    "name": "ipython",
    "version": 3
   },
   "file_extension": ".py",
   "mimetype": "text/x-python",
   "name": "python",
   "nbconvert_exporter": "python",
   "pygments_lexer": "ipython3",
   "version": "3.11.9"
  }
 },
 "nbformat": 4,
 "nbformat_minor": 2
}
